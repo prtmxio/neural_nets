{
 "cells": [
  {
   "cell_type": "code",
   "execution_count": 1,
   "id": "f282e5a4-6ce3-4567-bc55-40b85cc3845a",
   "metadata": {},
   "outputs": [],
   "source": [
    "import torch\n",
    "import random\n",
    "import numpy as np\n",
    "import matplotlib.pyplot as plt"
   ]
  },
  {
   "cell_type": "code",
   "execution_count": 2,
   "id": "526cd250-19e0-46c5-a70d-49d1430bf2ae",
   "metadata": {},
   "outputs": [
    {
     "name": "stdout",
     "output_type": "stream",
     "text": [
      "f : -0.8584989447133669\n",
      "______\n",
      "x1 =  -0.7889386857781064\n",
      "x2 =  0.2629795619260355\n",
      "w1 =  0.525959123852071\n",
      "w2 =  0.0\n"
     ]
    }
   ],
   "source": [
    "x1 = torch.tensor([2.0]).double()                ;x1.requires_grad = True\n",
    "x2 = torch.tensor([0.0]).double()                ;x2.requires_grad = True\n",
    "w1 = torch.tensor([-3.0]).double()               ;w1.requires_grad = True\n",
    "w2 = torch.tensor([1.0]).double()                ;w2.requires_grad = True\n",
    "b = torch.tensor([4.71239123]).double()          ;b.requires_grad = True\n",
    "n = x1*w1 + x2*w2 + b\n",
    "f = torch.tanh(n)\n",
    "\n",
    "print('f :', f.data.item())\n",
    "f.backward()\n",
    "\n",
    "print('______')\n",
    "print('x1 = ', x1.grad.item())\n",
    "print('x2 = ', x2.grad.item())\n",
    "print('w1 = ', w1.grad.item())\n",
    "print('w2 = ', w2.grad.item())"
   ]
  },
  {
   "cell_type": "code",
   "execution_count": 7,
   "id": "172aab59-369d-4e53-88cc-fae304a21872",
   "metadata": {},
   "outputs": [],
   "source": [
    "# My Neural Network\n",
    "class Neuron:\n",
    "\n",
    "    def __init__(self, nin):\n",
    "        self.w = torch.randn(nin, dtype=torch.float64, requires_grad=True)\n",
    "        self.b = torch.randn(1, dtype=torch.float64, requires_grad=True)\n",
    "        \n",
    "    def __call__(self, x):\n",
    "        # w*x + b\n",
    "        x = torch.as_tensor(x, dtype=torch.float64)  # if x isn't tesnor, then make it     \n",
    "        act = torch.sum(self.w * x) + self.b  # More efficient vectorized operation\n",
    "        out = torch.tanh(act)\n",
    "        return out\n",
    "\n",
    "    def params(self):\n",
    "        return [self.w, self.b]\n",
    "\n",
    "class Layer:\n",
    "    def __init__(self, nin, nout):\n",
    "        self.neurons = [Neuron(nin) for _ in range(nout)]\n",
    "\n",
    "    def __call__(self, x):\n",
    "        outs = [n(x) for n in self.neurons]\n",
    "        return outs[0] if len(outs) == 1 else outs\n",
    "\n",
    "    def params(self):\n",
    "        return [p for n in self.neurons for p in n.params()]\n",
    "        \n",
    "class MLP:\n",
    "    def __init__(self, nin, nouts):\n",
    "        sz = [nin] + nouts\n",
    "        self.layers = [Layer(sz[i], sz[i+1]) for i in range(len(nouts))]\n",
    "\n",
    "    def __call__(self, x):\n",
    "        for layer in self.layers:\n",
    "            x = layer(x)\n",
    "        return x\n",
    "\n",
    "    def params(self):\n",
    "        return [p for l in self.layers for p in l.params()]\n"
   ]
  },
  {
   "cell_type": "code",
   "execution_count": 8,
   "id": "ef52803d-cf1f-4ae5-9f07-fe8dc3ef9884",
   "metadata": {},
   "outputs": [],
   "source": [
    "X = [\n",
    "  [2.0, 3.0, -1.0],\n",
    "  [3.0, -1.0, 0.5],\n",
    "  [0.5, 1.0, 1.0],\n",
    "  [1.0, 1.0, -1.0],\n",
    "]\n",
    "\n",
    "y = [1.0, 0.0, 0.0, 1.0] # output(y) Binary classifer\n",
    "n = MLP(3, [4, 3, 5, 1])"
   ]
  },
  {
   "cell_type": "code",
   "execution_count": 9,
   "id": "ed852d4e-51a1-4065-99c8-dd036fc8b132",
   "metadata": {},
   "outputs": [
    {
     "ename": "TypeError",
     "evalue": "unsupported operand type(s) for *: 'float' and 'NoneType'",
     "output_type": "error",
     "traceback": [
      "\u001b[31m---------------------------------------------------------------------------\u001b[39m",
      "\u001b[31mTypeError\u001b[39m                                 Traceback (most recent call last)",
      "\u001b[36mCell\u001b[39m\u001b[36m \u001b[39m\u001b[32mIn[9]\u001b[39m\u001b[32m, line 18\u001b[39m\n\u001b[32m     16\u001b[39m \u001b[38;5;28;01mwith\u001b[39;00m torch.no_grad():\n\u001b[32m     17\u001b[39m   \u001b[38;5;28;01mfor\u001b[39;00m p \u001b[38;5;129;01min\u001b[39;00m n.params():\n\u001b[32m---> \u001b[39m\u001b[32m18\u001b[39m     p.data -= \u001b[43mlr\u001b[49m\u001b[43m \u001b[49m\u001b[43m*\u001b[49m\u001b[43m \u001b[49m\u001b[43mp\u001b[49m\u001b[43m.\u001b[49m\u001b[43mgrad\u001b[49m\n\u001b[32m     20\u001b[39m \u001b[38;5;28;01mif\u001b[39;00m loss.data < \u001b[32m0.0001\u001b[39m:\n\u001b[32m     21\u001b[39m     \u001b[38;5;28mprint\u001b[39m(\u001b[33mf\u001b[39m\u001b[33m\"\u001b[39m\u001b[33mEpoch \u001b[39m\u001b[38;5;132;01m{\u001b[39;00mk+\u001b[32m1\u001b[39m\u001b[38;5;132;01m}\u001b[39;00m\u001b[33m, Loss: \u001b[39m\u001b[38;5;132;01m{\u001b[39;00mloss.data\u001b[38;5;132;01m:\u001b[39;00m\u001b[33m.5f\u001b[39m\u001b[38;5;132;01m}\u001b[39;00m\u001b[33m\"\u001b[39m)\n",
      "\u001b[31mTypeError\u001b[39m: unsupported operand type(s) for *: 'float' and 'NoneType'"
     ]
    }
   ],
   "source": [
    "epochs = 1000\n",
    "lr = 0.07\n",
    "for k in range(epochs):\n",
    "  \n",
    "  # forward pass\n",
    "  y_cap = [n(x) for x in X]\n",
    "  loss = sum((ypred - yorg)**2 for yorg, ypred in zip(y, y_cap)) / len(y)\n",
    "  \n",
    "  # backward pass\n",
    "  for p in n.params():\n",
    "    p.grad = None\n",
    "\n",
    "  loss.backward()\n",
    "  \n",
    "  # update\n",
    "  with torch.no_grad():\n",
    "    for p in n.params():\n",
    "      p.data -= lr * p.grad\n",
    "    \n",
    "  if loss.data < 0.0001:\n",
    "      print(f\"Epoch {k+1}, Loss: {loss.data:.5f}\")\n",
    "      break\n",
    "\n",
    "print(f\"Epoch {epochs}, Loss: {loss.data:.5f} \")"
   ]
  },
  {
   "cell_type": "code",
   "execution_count": null,
   "id": "3ae897fd-8bc2-4eb4-8d68-fee8b55bd2f6",
   "metadata": {},
   "outputs": [],
   "source": [
    "y_cap"
   ]
  }
 ],
 "metadata": {
  "kernelspec": {
   "display_name": "Python 3 (ipykernel)",
   "language": "python",
   "name": "python3"
  },
  "language_info": {
   "codemirror_mode": {
    "name": "ipython",
    "version": 3
   },
   "file_extension": ".py",
   "mimetype": "text/x-python",
   "name": "python",
   "nbconvert_exporter": "python",
   "pygments_lexer": "ipython3",
   "version": "3.13.7"
  }
 },
 "nbformat": 4,
 "nbformat_minor": 5
}
